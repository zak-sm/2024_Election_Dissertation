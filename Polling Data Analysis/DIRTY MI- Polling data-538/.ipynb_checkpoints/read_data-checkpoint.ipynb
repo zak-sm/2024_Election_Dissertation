{
 "cells": [
  {
   "cell_type": "code",
   "execution_count": 10,
   "metadata": {},
   "outputs": [],
   "source": [
    "import pandas as pd\n",
    "import numpy as np"
   ]
  },
  {
   "cell_type": "code",
   "execution_count": 11,
   "metadata": {},
   "outputs": [],
   "source": [
    "data = pd.read_csv('538_president_polls.csv')\n",
    "\n"
   ]
  },
  {
   "cell_type": "code",
   "execution_count": 12,
   "metadata": {},
   "outputs": [
    {
     "data": {
      "text/plain": [
       "Index(['poll_id', 'pollster_id', 'pollster', 'sponsor_ids', 'sponsors',\n",
       "       'display_name', 'pollster_rating_id', 'pollster_rating_name',\n",
       "       'numeric_grade', 'pollscore', 'methodology', 'transparency_score',\n",
       "       'state', 'start_date', 'end_date', 'sponsor_candidate_id',\n",
       "       'sponsor_candidate', 'sponsor_candidate_party', 'endorsed_candidate_id',\n",
       "       'endorsed_candidate_name', 'endorsed_candidate_party', 'question_id',\n",
       "       'sample_size', 'population', 'subpopulation', 'population_full',\n",
       "       'tracking', 'created_at', 'notes', 'url', 'url_article', 'url_topline',\n",
       "       'url_crosstab', 'source', 'internal', 'partisan', 'race_id', 'cycle',\n",
       "       'office_type', 'seat_number', 'seat_name', 'election_date', 'stage',\n",
       "       'nationwide_batch', 'ranked_choice_reallocated', 'ranked_choice_round',\n",
       "       'hypothetical', 'party', 'answer', 'candidate_id', 'candidate_name',\n",
       "       'pct'],\n",
       "      dtype='object')"
      ]
     },
     "execution_count": 12,
     "metadata": {},
     "output_type": "execute_result"
    }
   ],
   "source": [
    "data.columns"
   ]
  },
  {
   "cell_type": "code",
   "execution_count": 16,
   "metadata": {},
   "outputs": [
    {
     "data": {
      "text/plain": [
       "poll_id                                                                  89457\n",
       "pollster_id                                                               1890\n",
       "pollster                                                      SoCal Strategies\n",
       "sponsor_ids                                                             2152.0\n",
       "sponsors                                                     On Point Politics\n",
       "display_name                                                  SoCal Strategies\n",
       "pollster_rating_id                                                         851\n",
       "pollster_rating_name                                            SoCal Research\n",
       "numeric_grade                                                              NaN\n",
       "pollscore                                                                  NaN\n",
       "methodology                                                Online Opt-In Panel\n",
       "transparency_score                                                         NaN\n",
       "state                                                                      NaN\n",
       "start_date                                                            12/23/24\n",
       "end_date                                                              12/23/24\n",
       "sponsor_candidate_id                                                       NaN\n",
       "sponsor_candidate                                                          NaN\n",
       "sponsor_candidate_party                                                    NaN\n",
       "endorsed_candidate_id                                                      NaN\n",
       "endorsed_candidate_name                                                    NaN\n",
       "endorsed_candidate_party                                                   NaN\n",
       "question_id                                                             217255\n",
       "sample_size                                                                656\n",
       "population                                                                  rv\n",
       "subpopulation                                                              NaN\n",
       "population_full                                                             rv\n",
       "tracking                                                                   NaN\n",
       "created_at                                                      12/24/24 11:31\n",
       "notes                                                                      NaN\n",
       "url                                 https://substack.com/home/post/p-153555596\n",
       "url_article                         https://substack.com/home/post/p-153555596\n",
       "url_topline                                                                NaN\n",
       "url_crosstab                 https://docs.google.com/spreadsheets/d/1ci0xpq...\n",
       "source                                                                     NaN\n",
       "internal                                                                   NaN\n",
       "partisan                                                                   NaN\n",
       "race_id                                                                  16281\n",
       "cycle                                                                     2028\n",
       "office_type                                                     U.S. President\n",
       "seat_number                                                                  0\n",
       "seat_name                                                                  NaN\n",
       "election_date                                                          11/7/28\n",
       "stage                                                                  general\n",
       "nationwide_batch                                                         False\n",
       "ranked_choice_reallocated                                                False\n",
       "ranked_choice_round                                                        NaN\n",
       "hypothetical                                                              True\n",
       "party                                                                      REP\n",
       "answer                                                                   Vance\n",
       "candidate_id                                                             31220\n",
       "candidate_name                                                        JD Vance\n",
       "pct                                                                       37.0\n",
       "Name: 1, dtype: object"
      ]
     },
     "execution_count": 16,
     "metadata": {},
     "output_type": "execute_result"
    }
   ],
   "source": [
    "data.iloc[1]"
   ]
  },
  {
   "cell_type": "code",
   "execution_count": null,
   "metadata": {},
   "outputs": [],
   "source": []
  }
 ],
 "metadata": {
  "kernelspec": {
   "display_name": "Python 3",
   "language": "python",
   "name": "python3"
  },
  "language_info": {
   "codemirror_mode": {
    "name": "ipython",
    "version": 3
   },
   "file_extension": ".py",
   "mimetype": "text/x-python",
   "name": "python",
   "nbconvert_exporter": "python",
   "pygments_lexer": "ipython3",
   "version": "3.11.5"
  }
 },
 "nbformat": 4,
 "nbformat_minor": 2
}
